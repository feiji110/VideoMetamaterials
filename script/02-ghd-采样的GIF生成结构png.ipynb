{
 "cells": [
  {
   "cell_type": "code",
   "execution_count": 1,
   "metadata": {},
   "outputs": [],
   "source": [
    "#!/usr/bin/python\n",
    "# -*- encoding: utf-8 -*-\n",
    "'''\n",
    "@File    :   采样的GIF生成结构png.ipynb\n",
    "@Time    :   2024/05/25 18:27:03\n",
    "@Author  :   Hengda.Gao\n",
    "@Contact :   ghd@nudt.edu.com\n",
    "@Desc    :   分割 采样的GIF \n",
    "             提取topo的第一帧\n",
    "             若满足生成结构png\n",
    "'''\n",
    "\n",
    "import os\n",
    "import cv2\n",
    "import numpy as np\n",
    "from pathlib import Path\n",
    "import matplotlib.pyplot as plt\n"
   ]
  },
  {
   "cell_type": "markdown",
   "metadata": {},
   "source": [
    "# 获取GIF文件路径并排序保证每次加载gif文件对应"
   ]
  },
  {
   "cell_type": "code",
   "execution_count": 2,
   "metadata": {},
   "outputs": [
    {
     "name": "stdout",
     "output_type": "stream",
     "text": [
      "['/home/hengda/VideoMetamaterials/runs/debug-128/eval_target_w_5.0_2/step_200000/gifs/prediction_channel_3.gif', '/home/hengda/VideoMetamaterials/runs/debug-128/eval_target_w_5.0_2/step_200000/gifs/prediction_channel_1.gif', '/home/hengda/VideoMetamaterials/runs/debug-128/eval_target_w_5.0_2/step_200000/gifs/prediction_channel_0.gif', '/home/hengda/VideoMetamaterials/runs/debug-128/eval_target_w_5.0_2/step_200000/gifs/prediction_channel_2.gif']\n"
     ]
    }
   ],
   "source": [
    "# voronoi-50k数据集训练立即采样结果 （13，2） 5.0_0 \n",
    "# voronoi-50k数据集训练1次采样结果 （13，10）5.0_1\n",
    "# voronoi-50k数据集训练2次采样结果 （20，5）5.0_2\n",
    "sample_dir = '/home/hengda/VideoMetamaterials/runs/debug-128/eval_target_w_5.0_2/step_200000/gifs'\n",
    "if not sample_dir:\n",
    "    raise ValueError('sample_dir is not defined')\n",
    "output_dir = '/home/hengda/VideoMetamaterials/runs/debug-128/eval_target_w_5.0_2/step_200000/gifs-post'\n",
    "Path(output_dir).mkdir(parents=True, exist_ok=True)\n",
    "# 获取文件夹中的所有文件\n",
    "file_path_list = []\n",
    "for root, dirs, files in os.walk(sample_dir):\n",
    "    for file in files:\n",
    "        if file.endswith('.gif'):\n",
    "            file_path = os.path.join(root, file)\n",
    "            file_path_list.append(file_path)\n",
    "print(file_path_list)          "
   ]
  },
  {
   "cell_type": "code",
   "execution_count": 3,
   "metadata": {},
   "outputs": [
    {
     "data": {
      "text/plain": [
       "['/home/hengda/VideoMetamaterials/runs/debug-128/eval_target_w_5.0_2/step_200000/gifs/prediction_channel_0.gif',\n",
       " '/home/hengda/VideoMetamaterials/runs/debug-128/eval_target_w_5.0_2/step_200000/gifs/prediction_channel_1.gif',\n",
       " '/home/hengda/VideoMetamaterials/runs/debug-128/eval_target_w_5.0_2/step_200000/gifs/prediction_channel_2.gif',\n",
       " '/home/hengda/VideoMetamaterials/runs/debug-128/eval_target_w_5.0_2/step_200000/gifs/prediction_channel_3.gif']"
      ]
     },
     "execution_count": 3,
     "metadata": {},
     "output_type": "execute_result"
    }
   ],
   "source": [
    "# 根据 file_path_list[0].split('.')[1].split('_')[-1] 排序\n",
    "file_path_list = sorted(file_path_list, key=lambda x: int(x.split('.')[1].split('_')[-1]))\n",
    "file_path_list # 0，1，2，3 依次表示 u_1,u_2,s_22,topo"
   ]
  },
  {
   "cell_type": "code",
   "execution_count": 4,
   "metadata": {},
   "outputs": [
    {
     "name": "stdout",
     "output_type": "stream",
     "text": [
      "****************************************************************************************************\n",
      "topo的帧数11\n",
      "每一帧的大小为\n",
      "(2640, 660)\n",
      "****************************************************************************************************\n",
      "一共有20样本\n",
      "每个样本有5种情况\n",
      "****************************************************************************************************\n"
     ]
    }
   ],
   "source": [
    "# 首先提取topo结构\n",
    "topo_path = file_path_list[3]\n",
    "# 加载gif图片\n",
    "import imageio\n",
    "topo = imageio.mimread(topo_path)\n",
    "print('*'*100)\n",
    "print(f'topo的帧数{len(topo)}')\n",
    "# 提取每一帧\n",
    "topo_frames = []\n",
    "for i in range(len(topo)):\n",
    "    topo_frames.append(topo[i])\n",
    "print('每一帧的大小为')\n",
    "print(topo_frames[0].shape)\n",
    "print('*'*100)\n",
    "# 一共有{}样本\n",
    "sample_number = int(topo_frames[0].shape[0]/128)\n",
    "print(f'一共有{sample_number}样本')\n",
    "# 每个样本有{}种情况\n",
    "shape_number = int(topo_frames[0].shape[1]/128)\n",
    "print(f'每个样本有{shape_number}种情况')\n",
    "print('*'*100)"
   ]
  },
  {
   "cell_type": "code",
   "execution_count": 5,
   "metadata": {},
   "outputs": [
    {
     "data": {
      "text/plain": [
       "(20, 5, 128, 128)"
      ]
     },
     "execution_count": 5,
     "metadata": {},
     "output_type": "execute_result"
    }
   ],
   "source": [
    "# 分割成numpy数组\n",
    "all_list = []\n",
    "# 11帧\n",
    "# for i in range(len(topo_frames)):\n",
    "i= 0\n",
    "sample = np.split(topo_frames[i], sample_number, axis=0)\n",
    "for k in range(sample_number):   \n",
    "    sample_list = [\n",
    "    np.split(sample[k], shape_number, axis=1)[j][2:-2, 2:-2]\n",
    "    for j in range(shape_number) \n",
    "    ]\n",
    "    all_list.append(sample_list)\n",
    "topo0 = np.array(all_list)\n",
    "topo0.shape # 样本数，每个样本的形状数，每个形状的大小 topo0表示第0帧"
   ]
  },
  {
   "cell_type": "code",
   "execution_count": 6,
   "metadata": {},
   "outputs": [
    {
     "data": {
      "text/plain": [
       "Text(0.5, 1.0, 'pixel distribution')"
      ]
     },
     "execution_count": 6,
     "metadata": {},
     "output_type": "execute_result"
    },
    {
     "data": {
      "image/png": "[encoded data removed]",
      "text/plain": [
       "<Figure size 640x480 with 1 Axes>"
      ]
     },
     "metadata": {},
     "output_type": "display_data"
    }
   ],
   "source": [
    "import matplotlib.pyplot as plt\n",
    "plt.hist(topo0.flatten(), bins=250, edgecolor=\"k\");\n",
    "plt.title(\"pixel distribution\")"
   ]
  },
  {
   "cell_type": "code",
   "execution_count": 7,
   "metadata": {},
   "outputs": [],
   "source": [
    "def unique_count(array):\n",
    "    # 查询样本不同元素的元素个数\n",
    "    unique, counts = np.unique(array, return_counts=True)\n",
    "    for i in range(len(counts)):\n",
    "        print(f'unique:{unique[i]}, counts:{counts[i]}')"
   ]
  },
  {
   "cell_type": "code",
   "execution_count": 8,
   "metadata": {},
   "outputs": [
    {
     "data": {
      "text/plain": [
       "True"
      ]
     },
     "execution_count": 8,
     "metadata": {},
     "output_type": "execute_result"
    }
   ],
   "source": [
    "# 检测连通性，打印图片，以供仿真, 看是否需要改变尺寸\n",
    "def check_connectivity(f_bar):\n",
    "    import cv2\n",
    "    binary_matrix = cv2.threshold(f_bar, 127, 155, cv2.THRESH_BINARY)[1]\n",
    "    retval, labels, stats, centroids = cv2.connectedComponentsWithStats(binary_matrix, connectivity=8)\n",
    "    num_components = retval - 1  \n",
    "    if num_components == 1: \n",
    "        return True\n",
    "    else:\n",
    "        print(\"*\"*50)\n",
    "        print(f'num_components:{num_components}')\n",
    "        print(\"*\"*50)\n",
    "        return False\n",
    "\n",
    "check_connectivity(topo0[0,1])"
   ]
  },
  {
   "cell_type": "code",
   "execution_count": 9,
   "metadata": {},
   "outputs": [],
   "source": [
    "# 保存连通图片\n",
    "def save_connectivity(topo0, output_dir):\n",
    "    import cv2\n",
    "    for i in range(topo0.shape[0]):\n",
    "        for j in range(topo0.shape[1]):\n",
    "            if check_connectivity(topo0[i,j]):\n",
    "                cv2.imwrite(f'{output_dir}/topo_{i}_{j}.png', topo0[i,j])\n",
    "            else:\n",
    "                print(f'topo_{i}_{j}不连通')"
   ]
  },
  {
   "cell_type": "code",
   "execution_count": 10,
   "metadata": {},
   "outputs": [
    {
     "name": "stdout",
     "output_type": "stream",
     "text": [
      "**************************************************\n",
      "num_components:2\n",
      "**************************************************\n",
      "topo_1_3不连通\n",
      "**************************************************\n",
      "num_components:2\n",
      "**************************************************\n",
      "topo_2_3不连通\n",
      "**************************************************\n",
      "num_components:2\n",
      "**************************************************\n",
      "topo_5_1不连通\n",
      "**************************************************\n",
      "num_components:2\n",
      "**************************************************\n",
      "topo_6_4不连通\n",
      "**************************************************\n",
      "num_components:2\n",
      "**************************************************\n",
      "topo_10_3不连通\n",
      "**************************************************\n",
      "num_components:2\n",
      "**************************************************\n",
      "topo_11_0不连通\n",
      "**************************************************\n",
      "num_components:2\n",
      "**************************************************\n",
      "topo_11_2不连通\n",
      "**************************************************\n",
      "num_components:2\n",
      "**************************************************\n",
      "topo_13_1不连通\n",
      "**************************************************\n",
      "num_components:2\n",
      "**************************************************\n",
      "topo_14_1不连通\n",
      "**************************************************\n",
      "num_components:2\n",
      "**************************************************\n",
      "topo_14_2不连通\n",
      "**************************************************\n",
      "num_components:2\n",
      "**************************************************\n",
      "topo_15_0不连通\n",
      "**************************************************\n",
      "num_components:2\n",
      "**************************************************\n",
      "topo_15_1不连通\n",
      "**************************************************\n",
      "num_components:2\n",
      "**************************************************\n",
      "topo_16_0不连通\n",
      "**************************************************\n",
      "num_components:3\n",
      "**************************************************\n",
      "topo_17_0不连通\n",
      "**************************************************\n",
      "num_components:4\n",
      "**************************************************\n",
      "topo_17_1不连通\n",
      "**************************************************\n",
      "num_components:4\n",
      "**************************************************\n",
      "topo_17_2不连通\n",
      "**************************************************\n",
      "num_components:5\n",
      "**************************************************\n",
      "topo_17_3不连通\n",
      "**************************************************\n",
      "num_components:2\n",
      "**************************************************\n",
      "topo_17_4不连通\n",
      "**************************************************\n",
      "num_components:10\n",
      "**************************************************\n",
      "topo_18_0不连通\n",
      "**************************************************\n",
      "num_components:9\n",
      "**************************************************\n",
      "topo_18_1不连通\n",
      "**************************************************\n",
      "num_components:13\n",
      "**************************************************\n",
      "topo_18_2不连通\n",
      "**************************************************\n",
      "num_components:12\n",
      "**************************************************\n",
      "topo_18_3不连通\n",
      "**************************************************\n",
      "num_components:9\n",
      "**************************************************\n",
      "topo_18_4不连通\n",
      "**************************************************\n",
      "num_components:34\n",
      "**************************************************\n",
      "topo_19_0不连通\n",
      "**************************************************\n",
      "num_components:28\n",
      "**************************************************\n",
      "topo_19_1不连通\n",
      "**************************************************\n",
      "num_components:27\n",
      "**************************************************\n",
      "topo_19_2不连通\n",
      "**************************************************\n",
      "num_components:19\n",
      "**************************************************\n",
      "topo_19_3不连通\n",
      "**************************************************\n",
      "num_components:34\n",
      "**************************************************\n",
      "topo_19_4不连通\n"
     ]
    }
   ],
   "source": [
    "save_connectivity(topo0, output_dir)"
   ]
  },
  {
   "cell_type": "code",
   "execution_count": null,
   "metadata": {},
   "outputs": [],
   "source": [
    "\n",
    "# cv2.threshold 是 OpenCV 库中的一个函数，用于对图像进行阈值处理。它可以将图像转换为二值图像，根据指定的阈值将像素值分为两个类别。\n",
    "\n",
    "# 该函数的参数如下：\n",
    "\n",
    "# src：输入图像，可以是任何类型的单通道图像。\n",
    "# thresh：阈值，用于将像素值分为两个类别。根据不同的阈值类型，像素值可以大于、小于或等于阈值。\n",
    "# maxval：当像素值满足阈值条件时，赋予的新值。\n",
    "# type：阈值类型，用于指定像素值与阈值之间的比较关系。可以选择以下类型之一：\n",
    "# cv2.THRESH_BINARY：二值阈值化，大于阈值的像素值设为 maxval，小于等于阈值的像素值设为 0。\n",
    "# cv2.THRESH_BINARY_INV：反二值阈值化，大于阈值的像素值设为 0，小于等于阈值的像素值设为 maxval。\n",
    "# cv2.THRESH_TRUNC：截断阈值化，大于阈值的像素值设为阈值，小于等于阈值的像素值保持不变。\n",
    "# cv2.THRESH_TOZERO：零阈值化，大于阈值的像素值保持不变，小于等于阈值的像素值设为 0。\n",
    "# cv2.THRESH_TOZERO_INV：反零阈值化，大于阈值的像素值设为 0，小于等于阈值的像素值保持不变。\n",
    "# dst：输出图像，与输入图像具有相同的大小和类型。如果未提供，则会创建一个新的图像。\n",
    "# 该函数的返回值是一个元组，包含两个元素：\n",
    "\n",
    "# 阈值：实际使用的阈值，可能与输入的阈值不完全相同。\n",
    "# 输出图像：经过阈值处理后的图像。\n",
    "# 下面是一个使用 cv2.threshold 函数的示例："
   ]
  }
 ],
 "metadata": {
  "kernelspec": {
   "display_name": "py39",
   "language": "python",
   "name": "python3"
  },
  "language_info": {
   "codemirror_mode": {
    "name": "ipython",
    "version": 3
   },
   "file_extension": ".py",
   "mimetype": "text/x-python",
   "name": "python",
   "nbconvert_exporter": "python",
   "pygments_lexer": "ipython3",
   "version": "3.11.8"
  }
 },
 "nbformat": 4,
 "nbformat_minor": 2
}
